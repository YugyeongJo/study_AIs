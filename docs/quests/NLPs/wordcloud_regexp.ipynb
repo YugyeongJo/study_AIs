{
  "nbformat": 4,
  "nbformat_minor": 0,
  "metadata": {
    "colab": {
      "provenance": [],
      "authorship_tag": "ABX9TyNso5tTbrJ2iGxLpMSACAmU",
      "include_colab_link": true
    },
    "kernelspec": {
      "name": "python3",
      "display_name": "Python 3"
    },
    "language_info": {
      "name": "python"
    }
  },
  "cells": [
    {
      "cell_type": "markdown",
      "metadata": {
        "id": "view-in-github",
        "colab_type": "text"
      },
      "source": [
        "<a href=\"https://colab.research.google.com/github/YugyeongJo/study_AIs/blob/main/docs/quests/NLPs/wordcloud_regexp.ipynb\" target=\"_parent\"><img src=\"https://colab.research.google.com/assets/colab-badge.svg\" alt=\"Open In Colab\"/></a>"
      ]
    },
    {
      "cell_type": "markdown",
      "source": [
        "## wordcloud regexp quest"
      ],
      "metadata": {
        "id": "s1AWtHVrsNF3"
      }
    },
    {
      "cell_type": "code",
      "source": [
        "import pandas as pd\n",
        "import numpy as np"
      ],
      "metadata": {
        "id": "b_Bpi9yysgx1"
      },
      "execution_count": 42,
      "outputs": []
    },
    {
      "cell_type": "markdown",
      "source": [
        "### 한글처리"
      ],
      "metadata": {
        "id": "1oJGqypsroyz"
      }
    },
    {
      "cell_type": "code",
      "source": [
        "!apt-get -y install fonts-nanum\n",
        "!fc-cache -fv\n",
        "!rm ~/.cache/matplotlib -rf"
      ],
      "metadata": {
        "colab": {
          "base_uri": "https://localhost:8080/"
        },
        "id": "BjPtVPMNrnJE",
        "outputId": "b22c990c-fbb8-4429-bc2b-6f8fefb46420"
      },
      "execution_count": 31,
      "outputs": [
        {
          "output_type": "stream",
          "name": "stdout",
          "text": [
            "Reading package lists... Done\n",
            "Building dependency tree... Done\n",
            "Reading state information... Done\n",
            "fonts-nanum is already the newest version (20200506-1).\n",
            "0 upgraded, 0 newly installed, 0 to remove and 33 not upgraded.\n",
            "/usr/share/fonts: caching, new cache contents: 0 fonts, 1 dirs\n",
            "/usr/share/fonts/truetype: caching, new cache contents: 0 fonts, 3 dirs\n",
            "/usr/share/fonts/truetype/humor-sans: caching, new cache contents: 1 fonts, 0 dirs\n",
            "/usr/share/fonts/truetype/liberation: caching, new cache contents: 16 fonts, 0 dirs\n",
            "/usr/share/fonts/truetype/nanum: caching, new cache contents: 12 fonts, 0 dirs\n",
            "/usr/local/share/fonts: caching, new cache contents: 0 fonts, 0 dirs\n",
            "/root/.local/share/fonts: skipping, no such directory\n",
            "/root/.fonts: skipping, no such directory\n",
            "/usr/share/fonts/truetype: skipping, looped directory detected\n",
            "/usr/share/fonts/truetype/humor-sans: skipping, looped directory detected\n",
            "/usr/share/fonts/truetype/liberation: skipping, looped directory detected\n",
            "/usr/share/fonts/truetype/nanum: skipping, looped directory detected\n",
            "/var/cache/fontconfig: cleaning cache directory\n",
            "/root/.cache/fontconfig: not cleaning non-existent cache directory\n",
            "/root/.fontconfig: not cleaning non-existent cache directory\n",
            "fc-cache: succeeded\n"
          ]
        }
      ]
    },
    {
      "cell_type": "markdown",
      "source": [
        "### Excel 불러오기"
      ],
      "metadata": {
        "id": "-3z0vssIsNml"
      }
    },
    {
      "cell_type": "code",
      "execution_count": 32,
      "metadata": {
        "id": "GJq5AYG5q8Pz"
      },
      "outputs": [],
      "source": [
        "df_OWG = pd.read_excel('OneWord_Game.xlsx', sheet_name=None)"
      ]
    },
    {
      "cell_type": "code",
      "source": [
        "df_sheets = []\n",
        "for sheet_name, df in df_OWG.items():\n",
        "  df_sheets.append(df)\n",
        "  print(f'{sheet_name}, {type(df)}')\n",
        "  pass\n",
        "\n",
        "\n",
        "len(df_sheets)"
      ],
      "metadata": {
        "colab": {
          "base_uri": "https://localhost:8080/"
        },
        "id": "GGeF6JAtsQ0W",
        "outputId": "309f43a6-fbd4-42a4-ff19-d1c6feb89141"
      },
      "execution_count": 33,
      "outputs": [
        {
          "output_type": "stream",
          "name": "stdout",
          "text": [
            "2월, <class 'pandas.core.frame.DataFrame'>\n",
            "1월, <class 'pandas.core.frame.DataFrame'>\n",
            "12월, <class 'pandas.core.frame.DataFrame'>\n"
          ]
        },
        {
          "output_type": "execute_result",
          "data": {
            "text/plain": [
              "3"
            ]
          },
          "metadata": {},
          "execution_count": 33
        }
      ]
    },
    {
      "cell_type": "code",
      "source": [
        "df_sheets_mine01 = df_sheets[0].iloc[9].dropna()\n",
        "df_sheets_mine02 = df_sheets[1].iloc[9].dropna()\n",
        "df_sheets_mine03 = df_sheets[2].iloc[9].dropna()\n",
        "df_sheets_mine = pd.concat([df_sheets_mine01,df_sheets_mine02,df_sheets_mine03], axis=0)\n",
        "df_sheets_mine"
      ],
      "metadata": {
        "colab": {
          "base_uri": "https://localhost:8080/"
        },
        "id": "E2w1cUX-_cFP",
        "outputId": "47fb9cb8-bf14-40af-cce7-6ee35cb1d848"
      },
      "execution_count": 60,
      "outputs": [
        {
          "output_type": "execute_result",
          "data": {
            "text/plain": [
              "                                                                     조유경\n",
              "2024-02-14 00:00:00    Supervised Learning 지도 학습\\n머신러닝을 학습시키는 방식 중 하나...\n",
              "2024-02-13 00:00:00    Linear Regression 선형회귀분석\\n데이터의 경향성을 가장 잘 설명하는 ...\n",
              "2024-02-07 00:00:00    p-value\\n관찰된 데이터 이상의 극단적인 결과를 얻을 확률을 의미한다. \\np...\n",
              "2024-02-06 00:00:00    대립가설\\n귀무가설에 대조되는 가설로 특정한 관계나 차이가 존재하다는 것을 주장하는...\n",
              "2024-02-05 00:00:00    cut()\\n데이터를 구간 길이에 따라 나누는 함수이다. \\n연속형 데이터를 범주형...\n",
              "2024-02-02 00:00:00    EDA(탐색 데이터 분석, Exploratory Data Analysis)\\n데이터...\n",
              "2024-02-01 00:00:00    query\\ndataframe에서 data를 특정조건에 따라 필터링할때 사용되는 메...\n",
              "                                                                     조유경\n",
              "2024-01-31 00:00:00          pivot_table\\n데이터프레임의 데이터를 재구조화하여 요약된 형태로 표시\n",
              "2024-01-30 00:00:00    to_datetime\\npandas에서 datatype을 datetime 형식으로 ...\n",
              "2024-01-29 00:00:00    sort_values\\n전처리 작업 시 데이터프레임에서 특정 열을 기준으로 데이터를...\n",
              "2024-01-26 00:00:00    DataFrame\\n여러개의 series가 모여있는 다변수의 구성으로 column이...\n",
              "1월 25일                 fetch\\n네트워크 요청을 보내고 응답을 받아오는 기능을 수행하는  javascr...\n",
              "1월 24일                 addEventListener\\n웹페이지 상에서 이벤트를 처리하기 위해 사용되는 메...\n",
              "1월 23일                 자료구조\\n데이터 값의 모임을 의미합니다. 종류에는 bucket과 queue가 있는...\n",
              "1월 22일                 serviceKey\\n공공API를 사용할때 인증 및 권한 부여를 위해 사용하는 것입...\n",
              "1월 19일                 fastAPI\\n파이썬 3.5이상에서 사용하는 웹 프레임워크이다.\\nAPI 개발에 ...\n",
              "1월 17일                 fastAPI jinja\\n파이썬으로 만들어진 템플릿팅 엔진이다.\\nAPI 응답을 ...\n",
              "1월 16일                 라우팅\\n사용자가 서버로 보내는 http요청을 처리하는 프로세스이다.\\n사용자가 보...\n",
              "1월 15일                 NoSQL\\n데이터 저장, 관리에 유연성을 지원하는 데이터 저장소이다. \\n유연성을...\n",
              "1월 12일                 스키마\\n데이터베이스 안에 저장되는 데이터 구조와 제약 조건 등을 정의한 것으로, ...\n",
              "1월 11일                 빅데이터\\n대량으로 쏟아지는 데이터를 사회현상을 분석하고 예측하기 위해 가공 분석하...\n",
              "1월 10일                        Bootstrap\\n웹사이트 디자인을 쉽게 만들어주는 라이브러리 도구입니다.\n",
              "1월 9일                      grid\\n웹사이트를 여러개의 칼럼으로 나눈 후 웹 요소를 배치하는 것을 말한다.\n",
              "1월 8일                              await \\n실행된 코드의 작동이 완료될때까지 기다리는 것입니다.\n",
              "1월 5일                  include_router\\napp 객체에 파이썬 파일의 router 객체를 등록할...\n",
              "1월 4일                  formaction\\nform태그를 사용하여 정보를 보낼때 버튼에 따라 각자 다른 ...\n",
              "1월 3일                        api router\\nfastapi에서 다중 라우팅을 위해 사용하는 것입니다.\n",
              "1월 2일                  replace()\\n불러온 값 내에서 첫번째 입력한 값을 두번째 입력한 값으로 치환...\n",
              "                                                                     조유경\n",
              "12월 29일                     time.sleep\\n일정 시간동안 실행을 중지해주는 역할을 하는 명령어입니다.\n",
              "12월 28일                switch_to.frame\\n웹 크롤링을 진행할때 iframe을 크롤링 하기 위해...\n",
              "12월 26일                find element\\n웹크롤링을 통해 정보를 획득하는 과정해서 해당하는 요소를 ...\n",
              "12월 22일                   cd (change directory)\\n디렉토리 간의 이동을 위한 명령어 입니다.\n",
              "12월 21일                         try except\\n업무 코드 작성 및 문제 대처를 위한 코드 입니다.\n",
              "12월 20일                if __name__ : \"__main__\" :\\n파이썬 main파일을 실행시켰을때...\n",
              "12월 19일                       except\\n업무 코드에서 문제가 발생하였을때 사용되는 대처 코드 입니다.\n",
              "12월 18일                       deletmany\\nmongodb 내 data를 삭제할때 사용하는 것입니다.\n",
              "12월 15일                         insert\\n단일 또는 다수의  document를 삽입할때 사용합니다.\n",
              "12월 14일                                   collection\\n엑셀의 쉬트와 같은 역할 입니다.\n",
              "12월 13일                                         append\\n데이터를 추가하는 방법입니다.\n",
              "12월 12일                            class\\nfunction을 모은 것으로 .을 사용하여 불러온다.\n",
              "12월 11일                function\\n코드의 반복작업을 줄여주기 위해 사용하는 코드로 호출을 함으로써 ...\n",
              "Name: 9, dtype: object"
            ]
          },
          "metadata": {},
          "execution_count": 60
        }
      ]
    },
    {
      "cell_type": "markdown",
      "source": [
        "### 데이터전처리"
      ],
      "metadata": {
        "id": "O5_thgIF3RGf"
      }
    },
    {
      "cell_type": "markdown",
      "source": [
        "#### values 연습"
      ],
      "metadata": {
        "id": "u231an9oB51Q"
      }
    },
    {
      "cell_type": "code",
      "source": [
        "df_sheets_mine_values = df_sheets_mine.values.tolist()\n",
        "df_sheets_mine_values"
      ],
      "metadata": {
        "colab": {
          "base_uri": "https://localhost:8080/"
        },
        "id": "z6__M_zU7hmg",
        "outputId": "40ea4b77-38b5-4074-db71-463c8533a7ac"
      },
      "execution_count": 65,
      "outputs": [
        {
          "output_type": "execute_result",
          "data": {
            "text/plain": [
              "['조유경',\n",
              " 'Supervised Learning 지도 학습\\n머신러닝을 학습시키는 방식 중 하나로 문제와 정답을 모두 알려주고 학습시키는 방법입니다.\\n데이터의 패턴을 파악하여 예측값을 구하기 위해 사용됩니다.  \\n',\n",
              " 'Linear Regression 선형회귀분석\\n데이터의 경향성을 가장 잘 설명하는 직선을 찾는 방법이다. \\n두 변수 사이의 관계를 분석하거나 예측하는 데 사용되며, 모델의 구조가 간단하고 해석하기 쉬운반면 복잡한 상호작용을 고려해야하는 데이터의 경우 한계를 가진다. \\n',\n",
              " 'p-value\\n관찰된 데이터 이상의 극단적인 결과를 얻을 확률을 의미한다. \\np-value가 유의수준이하일때 귀무 가설을 기각하고 대립가설을 채택하게 된다.\\n가설이 통계적으로 유의미한지를 판단하고, 변수 간의 관계가 유의미한지 등을 판단하기 위해 사용한다.  ',\n",
              " '대립가설\\n귀무가설에 대조되는 가설로 특정한 관계나 차이가 존재하다는 것을 주장하는 가설입니다.\\n귀무가설이 채택되지 않았을때 채택되며, 주장하고자 하는 바를 수치적으로 증명하기 위해 사용된다.',\n",
              " 'cut()\\n데이터를 구간 길이에 따라 나누는 함수이다. \\n연속형 데이터를 범주형 데이터로 바꿔줄 때 사용되며, 데이터들을 구간별로 쪼개어 나누어줄 때 사용합니다. ',\n",
              " 'EDA(탐색 데이터 분석, Exploratory Data Analysis)\\n데이터를 통해 도출해낼 수 있는 인사이트를 탐색하기 위한 데이터분석 방법입니다.\\n데이터를 통해 인사이트 도출을 함으로써 비즈니스에 도움을 주기 위해 사용되기 때문에 시각화를 적극 활용한 설득을 위해 사용됩니다.  \\n',\n",
              " 'query\\ndataframe에서 data를 특정조건에 따라 필터링할때 사용되는 메소드입니다.\\nquery는 문자열 표현식을 사용하기 때문에 복잡한 조건을 보다 쉽게 활용할 수 있습니다.',\n",
              " '조유경',\n",
              " 'pivot_table\\n데이터프레임의 데이터를 재구조화하여 요약된 형태로 표시',\n",
              " 'to_datetime\\npandas에서 datatype을 datetime 형식으로 변환하는  메소드입니다. \\n다양한 형식으로 되어있는 날짜/시간 데이터를 표준적인 datetime 형식으로 변환하는데 사용됩니다. \\n',\n",
              " 'sort_values\\n전처리 작업 시 데이터프레임에서 특정 열을 기준으로 데이터를 정렬하는 메서드이다.\\n데이터의 결측과 이상값 처리를 위해 전처리 작업이 필요한데, 이러한 전처리 작업을 진행하기 위해 데이터를 전체적으로 검토하기 위해 사용된다.\\nsort_values는 주로 범주형 데이터를 정렬하는데 사용되는데, 특정 범주의 빈도나 순서를 쉽게 확인할 수 있기 때문이다. ',\n",
              " 'DataFrame\\n여러개의 series가 모여있는 다변수의 구성으로 column이 존재하며, 테이블형식의 행과 열로 구성된 2차원 배열 형태를 가지는 데이터 구조입니다. \\n행과 열로 구성되어 있어 데이터를 쉽게 조회, 추가, 삭제, 수정 할 수 있습니다. ',\n",
              " 'fetch\\n네트워크 요청을 보내고 응답을 받아오는 기능을 수행하는  javascript 함수이다\\nGET, POST, PUT, DELETE 등 다양한 HTTP 메서드를 사용할 수 있으며, 데이터를  동시에 여러 작업이 진행되는 방식인 비동기적방식으로 처리할 수 있다.',\n",
              " 'addEventListener\\n웹페이지 상에서 이벤트를 처리하기 위해 사용되는 메서드이다. \\n특정한 이벤트가 발생했을때, 해당 이벤트에 대한 처리를 지정할 수 있도록 도와준다. \\n사용목적 : 웹페이지에서 발생하는 다양한 이벤트에 대한 처리를 쉽게 할 수 있고, 사용자와의 상호작용 및 웹페이지의 동적인 동작을 구현할 수 있다. ',\n",
              " '자료구조\\n데이터 값의 모임을 의미합니다. 종류에는 bucket과 queue가 있는데, bucket은 자료를 들어온 순서대로 쌓아서 자료를 꺼낼때 마지막에 넣은 자료를 먼저 꺼낼 수 있는 후입선출 방식이고, queue는 자료를 들어온 순서대로 나열 후 먼저 쌓은 자료를 먼저 꺼낼 수 있도록 하는 선입선출 방식이다. \\n사용 목적으로는 자료를 어떠한 구조가 없이 모아두게 되면 필요한 자료를 찾을때 시간이 오래걸리며, 메모리 공간의 활용성이 떨어지기 때문이다. ',\n",
              " 'serviceKey\\n공공API를 사용할때 인증 및 권한 부여를 위해 사용하는 것입니다. \\n공공API는 많은 양의 데이터를 제공하는데 무단으로 이를 접근하거나 남용하는 것을 방지하기 위해 사용됩니다. ',\n",
              " 'fastAPI\\n파이썬 3.5이상에서 사용하는 웹 프레임워크이다.\\nAPI 개발에 초점을 맞추어 설계되었고 높은 성능과 직관적인 문법을 제공하기 때문에 효율적인 웹서버 구축이 가능하여 사용된다.',\n",
              " 'fastAPI jinja\\n파이썬으로 만들어진 템플릿팅 엔진이다.\\nAPI 응답을 쉽게 렌더링할 수 있게 해주기때문에 사용한다.',\n",
              " '라우팅\\n사용자가 서버로 보내는 http요청을 처리하는 프로세스이다.\\n사용자가 보낸 요청에 유연하게 응답하기 위해 사용됩니다.',\n",
              " 'NoSQL\\n데이터 저장, 관리에 유연성을 지원하는 데이터 저장소이다. \\n유연성을 가지고 있기 때문에 저비용으로 대용량 데이터의 저장 및 분산 처리가 가능하다. ',\n",
              " '스키마\\n데이터베이스 안에 저장되는 데이터 구조와 제약 조건 등을 정의한 것으로, 데이터의 접근 수준과 목적에 따라 다양하게 표현됩니다..',\n",
              " '빅데이터\\n대량으로 쏟아지는 데이터를 사회현상을 분석하고 예측하기 위해 가공 분석하여 사용하는 자료입니다. \\n',\n",
              " 'Bootstrap\\n웹사이트 디자인을 쉽게 만들어주는 라이브러리 도구입니다.',\n",
              " 'grid\\n웹사이트를 여러개의 칼럼으로 나눈 후 웹 요소를 배치하는 것을 말한다.',\n",
              " 'await \\n실행된 코드의 작동이 완료될때까지 기다리는 것입니다.',\n",
              " 'include_router\\napp 객체에 파이썬 파일의 router 객체를 등록할 때 사용하는 것입니다. ',\n",
              " 'formaction\\nform태그를 사용하여 정보를 보낼때 버튼에 따라 각자 다른 곳으로 정보를 보내고자할 경우 버튼에 직접 경로를 설정해주는 태그입니다. ',\n",
              " 'api router\\nfastapi에서 다중 라우팅을 위해 사용하는 것입니다.',\n",
              " 'replace()\\n불러온 값 내에서 첫번째 입력한 값을 두번째 입력한 값으로 치환해줄때 사용된다.',\n",
              " '조유경',\n",
              " ' time.sleep\\n일정 시간동안 실행을 중지해주는 역할을 하는 명령어입니다.',\n",
              " 'switch_to.frame\\n웹 크롤링을 진행할때 iframe을 크롤링 하기 위해 사용하는 것입니다.',\n",
              " 'find element\\n웹크롤링을 통해 정보를 획득하는 과정해서 해당하는 요소를 찾아주는 명령어 입니다.',\n",
              " 'cd (change directory)\\n디렉토리 간의 이동을 위한 명령어 입니다.',\n",
              " 'try except\\n업무 코드 작성 및 문제 대처를 위한 코드 입니다.',\n",
              " 'if __name__ : \"__main__\" :\\n파이썬 main파일을 실행시켰을때에만 동작하도록 하는 구문입니다. ',\n",
              " 'except\\n업무 코드에서 문제가 발생하였을때 사용되는 대처 코드 입니다.',\n",
              " 'deletmany\\nmongodb 내 data를 삭제할때 사용하는 것입니다.',\n",
              " 'insert\\n단일 또는 다수의  document를 삽입할때 사용합니다.',\n",
              " 'collection\\n엑셀의 쉬트와 같은 역할 입니다.',\n",
              " 'append\\n데이터를 추가하는 방법입니다.',\n",
              " 'class\\nfunction을 모은 것으로 .을 사용하여 불러온다.',\n",
              " 'function\\n코드의 반복작업을 줄여주기 위해 사용하는 코드로 호출을 함으로써 실행된다.']"
            ]
          },
          "metadata": {},
          "execution_count": 65
        }
      ]
    },
    {
      "cell_type": "code",
      "source": [
        "text = ' '.join(df_sheets_mine_values)\n",
        "text"
      ],
      "metadata": {
        "colab": {
          "base_uri": "https://localhost:8080/",
          "height": 274
        },
        "id": "XtrNj5wI9FSQ",
        "outputId": "c6cd9258-9f2d-434e-c357-eee17c5a6e6f"
      },
      "execution_count": 66,
      "outputs": [
        {
          "output_type": "execute_result",
          "data": {
            "text/plain": [
              "'조유경 Supervised Learning 지도 학습\\n머신러닝을 학습시키는 방식 중 하나로 문제와 정답을 모두 알려주고 학습시키는 방법입니다.\\n데이터의 패턴을 파악하여 예측값을 구하기 위해 사용됩니다.  \\n Linear Regression 선형회귀분석\\n데이터의 경향성을 가장 잘 설명하는 직선을 찾는 방법이다. \\n두 변수 사이의 관계를 분석하거나 예측하는 데 사용되며, 모델의 구조가 간단하고 해석하기 쉬운반면 복잡한 상호작용을 고려해야하는 데이터의 경우 한계를 가진다. \\n p-value\\n관찰된 데이터 이상의 극단적인 결과를 얻을 확률을 의미한다. \\np-value가 유의수준이하일때 귀무 가설을 기각하고 대립가설을 채택하게 된다.\\n가설이 통계적으로 유의미한지를 판단하고, 변수 간의 관계가 유의미한지 등을 판단하기 위해 사용한다.   대립가설\\n귀무가설에 대조되는 가설로 특정한 관계나 차이가 존재하다는 것을 주장하는 가설입니다.\\n귀무가설이 채택되지 않았을때 채택되며, 주장하고자 하는 바를 수치적으로 증명하기 위해 사용된다. cut()\\n데이터를 구간 길이에 따라 나누는 함수이다. \\n연속형 데이터를 범주형 데이터로 바꿔줄 때 사용되며, 데이터들을 구간별로 쪼개어 나누어줄 때 사용합니다.  EDA(탐색 데이터 분석, Exploratory Data Analysis)\\n데이터를 통해 도출해낼 수 있는 인사이트를 탐색하기 위한 데이터분석 방법입니다.\\n데이터를 통해 인사이트 도출을 함으로써 비즈니스에 도움을 주기 위해 사용되기 때문에 시각화를 적극 활용한 설득을 위해 사용됩니다.  \\n query\\ndataframe에서 data를 특정조건에 따라 필터링할때 사용되는 메소드입니다.\\nquery는 문자열 표현식을 사용하기 때문에 복잡한 조건을 보다 쉽게 활용할 수 있습니다. 조유경 pivot_table\\n데이터프레임의 데이터를 재구조화하여 요약된 형태로 표시 to_datetime\\npandas에서 datatype을 datetime 형식으로 변환하는  메소드입니다. \\n다양한 형식으로 되어있는 날짜/시간 데이터를 표준적인 datetime 형식으로 변환하는데 사용됩니다. \\n sort_values\\n전처리 작업 시 데이터프레임에서 특정 열을 기준으로 데이터를 정렬하는 메서드이다.\\n데이터의 결측과 이상값 처리를 위해 전처리 작업이 필요한데, 이러한 전처리 작업을 진행하기 위해 데이터를 전체적으로 검토하기 위해 사용된다.\\nsort_values는 주로 범주형 데이터를 정렬하는데 사용되는데, 특정 범주의 빈도나 순서를 쉽게 확인할 수 있기 때문이다.  DataFrame\\n여러개의 series가 모여있는 다변수의 구성으로 column이 존재하며, 테이블형식의 행과 열로 구성된 2차원 배열 형태를 가지는 데이터 구조입니다. \\n행과 열로 구성되어 있어 데이터를 쉽게 조회, 추가, 삭제, 수정 할 수 있습니다.  fetch\\n네트워크 요청을 보내고 응답을 받아오는 기능을 수행하는  javascript 함수이다\\nGET, POST, PUT, DELETE 등 다양한 HTTP 메서드를 사용할 수 있으며, 데이터를  동시에 여러 작업이 진행되는 방식인 비동기적방식으로 처리할 수 있다. addEventListener\\n웹페이지 상에서 이벤트를 처리하기 위해 사용되는 메서드이다. \\n특정한 이벤트가 발생했을때, 해당 이벤트에 대한 처리를 지정할 수 있도록 도와준다. \\n사용목적 : 웹페이지에서 발생하는 다양한 이벤트에 대한 처리를 쉽게 할 수 있고, 사용자와의 상호작용 및 웹페이지의 동적인 동작을 구현할 수 있다.  자료구조\\n데이터 값의 모임을 의미합니다. 종류에는 bucket과 queue가 있는데, bucket은 자료를 들어온 순서대로 쌓아서 자료를 꺼낼때 마지막에 넣은 자료를 먼저 꺼낼 수 있는 후입선출 방식이고, queue는 자료를 들어온 순서대로 나열 후 먼저 쌓은 자료를 먼저 꺼낼 수 있도록 하는 선입선출 방식이다. \\n사용 목적으로는 자료를 어떠한 구조가 없이 모아두게 되면 필요한 자료를 찾을때 시간이 오래걸리며, 메모리 공간의 활용성이 떨어지기 때문이다.  serviceKey\\n공공API를 사용할때 인증 및 권한 부여를 위해 사용하는 것입니다. \\n공공API는 많은 양의 데이터를 제공하는데 무단으로 이를 접근하거나 남용하는 것을 방지하기 위해 사용됩니다.  fastAPI\\n파이썬 3.5이상에서 사용하는 웹 프레임워크이다.\\nAPI 개발에 초점을 맞추어 설계되었고 높은 성능과 직관적인 문법을 제공하기 때문에 효율적인 웹서버 구축이 가능하여 사용된다. fastAPI jinja\\n파이썬으로 만들어진 템플릿팅 엔진이다.\\nAPI 응답을 쉽게 렌더링할 수 있게 해주기때문에 사용한다. 라우팅\\n사용자가 서버로 보내는 http요청을 처리하는 프로세스이다.\\n사용자가 보낸 요청에 유연하게 응답하기 위해 사용됩니다. NoSQL\\n데이터 저장, 관리에 유연성을 지원하는 데이터 저장소이다. \\n유연성을 가지고 있기 때문에 저비용으로 대용량 데이터의 저장 및 분산 처리가 가능하다.  스키마\\n데이터베이스 안에 저장되는 데이터 구조와 제약 조건 등을 정의한 것으로, 데이터의 접근 수준과 목적에 따라 다양하게 표현됩니다.. 빅데이터\\n대량으로 쏟아지는 데이터를 사회현상을 분석하고 예측하기 위해 가공 분석하여 사용하는 자료입니다. \\n Bootstrap\\n웹사이트 디자인을 쉽게 만들어주는 라이브러리 도구입니다. grid\\n웹사이트를 여러개의 칼럼으로 나눈 후 웹 요소를 배치하는 것을 말한다. await \\n실행된 코드의 작동이 완료될때까지 기다리는 것입니다. include_router\\napp 객체에 파이썬 파일의 router 객체를 등록할 때 사용하는 것입니다.  formaction\\nform태그를 사용하여 정보를 보낼때 버튼에 따라 각자 다른 곳으로 정보를 보내고자할 경우 버튼에 직접 경로를 설정해주는 태그입니다.  api router\\nfastapi에서 다중 라우팅을 위해 사용하는 것입니다. replace()\\n불러온 값 내에서 첫번째 입력한 값을 두번째 입력한 값으로 치환해줄때 사용된다. 조유경  time.sleep\\n일정 시간동안 실행을 중지해주는 역할을 하는 명령어입니다. switch_to.frame\\n웹 크롤링을 진행할때 iframe을 크롤링 하기 위해 사용하는 것입니다. find element\\n웹크롤링을 통해 정보를 획득하는 과정해서 해당하는 요소를 찾아주는 명령어 입니다. cd (change directory)\\n디렉토리 간의 이동을 위한 명령어 입니다. try except\\n업무 코드 작성 및 문제 대처를 위한 코드 입니다. if __name__ : \"__main__\" :\\n파이썬 main파일을 실행시켰을때에만 동작하도록 하는 구문입니다.  except\\n업무 코드에서 문제가 발생하였을때 사용되는 대처 코드 입니다. deletmany\\nmongodb 내 data를 삭제할때 사용하는 것입니다. insert\\n단일 또는 다수의  document를 삽입할때 사용합니다. collection\\n엑셀의 쉬트와 같은 역할 입니다. append\\n데이터를 추가하는 방법입니다. class\\nfunction을 모은 것으로 .을 사용하여 불러온다. function\\n코드의 반복작업을 줄여주기 위해 사용하는 코드로 호출을 함으로써 실행된다.'"
            ],
            "application/vnd.google.colaboratory.intrinsic+json": {
              "type": "string"
            }
          },
          "metadata": {},
          "execution_count": 66
        }
      ]
    },
    {
      "cell_type": "markdown",
      "source": [
        "#### 다른 방법"
      ],
      "metadata": {
        "id": "q1Ta9slPBl0X"
      }
    },
    {
      "cell_type": "code",
      "source": [
        "df_sheets_mine_nonmissingvalue = df_sheets_mine.dropna()\n",
        "df_sheets_mine_nonmissingvalue"
      ],
      "metadata": {
        "colab": {
          "base_uri": "https://localhost:8080/"
        },
        "id": "cT5EOnTI6gkf",
        "outputId": "454011dc-5f87-4f76-f2c5-7ab9c806bcd1"
      },
      "execution_count": 63,
      "outputs": [
        {
          "output_type": "execute_result",
          "data": {
            "text/plain": [
              "                                                                     조유경\n",
              "2024-02-14 00:00:00    Supervised Learning 지도 학습\\n머신러닝을 학습시키는 방식 중 하나...\n",
              "2024-02-13 00:00:00    Linear Regression 선형회귀분석\\n데이터의 경향성을 가장 잘 설명하는 ...\n",
              "2024-02-07 00:00:00    p-value\\n관찰된 데이터 이상의 극단적인 결과를 얻을 확률을 의미한다. \\np...\n",
              "2024-02-06 00:00:00    대립가설\\n귀무가설에 대조되는 가설로 특정한 관계나 차이가 존재하다는 것을 주장하는...\n",
              "2024-02-05 00:00:00    cut()\\n데이터를 구간 길이에 따라 나누는 함수이다. \\n연속형 데이터를 범주형...\n",
              "2024-02-02 00:00:00    EDA(탐색 데이터 분석, Exploratory Data Analysis)\\n데이터...\n",
              "2024-02-01 00:00:00    query\\ndataframe에서 data를 특정조건에 따라 필터링할때 사용되는 메...\n",
              "                                                                     조유경\n",
              "2024-01-31 00:00:00          pivot_table\\n데이터프레임의 데이터를 재구조화하여 요약된 형태로 표시\n",
              "2024-01-30 00:00:00    to_datetime\\npandas에서 datatype을 datetime 형식으로 ...\n",
              "2024-01-29 00:00:00    sort_values\\n전처리 작업 시 데이터프레임에서 특정 열을 기준으로 데이터를...\n",
              "2024-01-26 00:00:00    DataFrame\\n여러개의 series가 모여있는 다변수의 구성으로 column이...\n",
              "1월 25일                 fetch\\n네트워크 요청을 보내고 응답을 받아오는 기능을 수행하는  javascr...\n",
              "1월 24일                 addEventListener\\n웹페이지 상에서 이벤트를 처리하기 위해 사용되는 메...\n",
              "1월 23일                 자료구조\\n데이터 값의 모임을 의미합니다. 종류에는 bucket과 queue가 있는...\n",
              "1월 22일                 serviceKey\\n공공API를 사용할때 인증 및 권한 부여를 위해 사용하는 것입...\n",
              "1월 19일                 fastAPI\\n파이썬 3.5이상에서 사용하는 웹 프레임워크이다.\\nAPI 개발에 ...\n",
              "1월 17일                 fastAPI jinja\\n파이썬으로 만들어진 템플릿팅 엔진이다.\\nAPI 응답을 ...\n",
              "1월 16일                 라우팅\\n사용자가 서버로 보내는 http요청을 처리하는 프로세스이다.\\n사용자가 보...\n",
              "1월 15일                 NoSQL\\n데이터 저장, 관리에 유연성을 지원하는 데이터 저장소이다. \\n유연성을...\n",
              "1월 12일                 스키마\\n데이터베이스 안에 저장되는 데이터 구조와 제약 조건 등을 정의한 것으로, ...\n",
              "1월 11일                 빅데이터\\n대량으로 쏟아지는 데이터를 사회현상을 분석하고 예측하기 위해 가공 분석하...\n",
              "1월 10일                        Bootstrap\\n웹사이트 디자인을 쉽게 만들어주는 라이브러리 도구입니다.\n",
              "1월 9일                      grid\\n웹사이트를 여러개의 칼럼으로 나눈 후 웹 요소를 배치하는 것을 말한다.\n",
              "1월 8일                              await \\n실행된 코드의 작동이 완료될때까지 기다리는 것입니다.\n",
              "1월 5일                  include_router\\napp 객체에 파이썬 파일의 router 객체를 등록할...\n",
              "1월 4일                  formaction\\nform태그를 사용하여 정보를 보낼때 버튼에 따라 각자 다른 ...\n",
              "1월 3일                        api router\\nfastapi에서 다중 라우팅을 위해 사용하는 것입니다.\n",
              "1월 2일                  replace()\\n불러온 값 내에서 첫번째 입력한 값을 두번째 입력한 값으로 치환...\n",
              "                                                                     조유경\n",
              "12월 29일                     time.sleep\\n일정 시간동안 실행을 중지해주는 역할을 하는 명령어입니다.\n",
              "12월 28일                switch_to.frame\\n웹 크롤링을 진행할때 iframe을 크롤링 하기 위해...\n",
              "12월 26일                find element\\n웹크롤링을 통해 정보를 획득하는 과정해서 해당하는 요소를 ...\n",
              "12월 22일                   cd (change directory)\\n디렉토리 간의 이동을 위한 명령어 입니다.\n",
              "12월 21일                         try except\\n업무 코드 작성 및 문제 대처를 위한 코드 입니다.\n",
              "12월 20일                if __name__ : \"__main__\" :\\n파이썬 main파일을 실행시켰을때...\n",
              "12월 19일                       except\\n업무 코드에서 문제가 발생하였을때 사용되는 대처 코드 입니다.\n",
              "12월 18일                       deletmany\\nmongodb 내 data를 삭제할때 사용하는 것입니다.\n",
              "12월 15일                         insert\\n단일 또는 다수의  document를 삽입할때 사용합니다.\n",
              "12월 14일                                   collection\\n엑셀의 쉬트와 같은 역할 입니다.\n",
              "12월 13일                                         append\\n데이터를 추가하는 방법입니다.\n",
              "12월 12일                            class\\nfunction을 모은 것으로 .을 사용하여 불러온다.\n",
              "12월 11일                function\\n코드의 반복작업을 줄여주기 위해 사용하는 코드로 호출을 함으로써 ...\n",
              "Name: 9, dtype: object"
            ]
          },
          "metadata": {},
          "execution_count": 63
        }
      ]
    },
    {
      "cell_type": "code",
      "source": [
        "text = ' '.join(df_sheets_mine_nonmissingvalue)\n",
        "text"
      ],
      "metadata": {
        "colab": {
          "base_uri": "https://localhost:8080/",
          "height": 274
        },
        "id": "3x_Oip6K299R",
        "outputId": "2c8d0470-b958-428f-ef5c-777832ada375"
      },
      "execution_count": 64,
      "outputs": [
        {
          "output_type": "execute_result",
          "data": {
            "text/plain": [
              "'조유경 Supervised Learning 지도 학습\\n머신러닝을 학습시키는 방식 중 하나로 문제와 정답을 모두 알려주고 학습시키는 방법입니다.\\n데이터의 패턴을 파악하여 예측값을 구하기 위해 사용됩니다.  \\n Linear Regression 선형회귀분석\\n데이터의 경향성을 가장 잘 설명하는 직선을 찾는 방법이다. \\n두 변수 사이의 관계를 분석하거나 예측하는 데 사용되며, 모델의 구조가 간단하고 해석하기 쉬운반면 복잡한 상호작용을 고려해야하는 데이터의 경우 한계를 가진다. \\n p-value\\n관찰된 데이터 이상의 극단적인 결과를 얻을 확률을 의미한다. \\np-value가 유의수준이하일때 귀무 가설을 기각하고 대립가설을 채택하게 된다.\\n가설이 통계적으로 유의미한지를 판단하고, 변수 간의 관계가 유의미한지 등을 판단하기 위해 사용한다.   대립가설\\n귀무가설에 대조되는 가설로 특정한 관계나 차이가 존재하다는 것을 주장하는 가설입니다.\\n귀무가설이 채택되지 않았을때 채택되며, 주장하고자 하는 바를 수치적으로 증명하기 위해 사용된다. cut()\\n데이터를 구간 길이에 따라 나누는 함수이다. \\n연속형 데이터를 범주형 데이터로 바꿔줄 때 사용되며, 데이터들을 구간별로 쪼개어 나누어줄 때 사용합니다.  EDA(탐색 데이터 분석, Exploratory Data Analysis)\\n데이터를 통해 도출해낼 수 있는 인사이트를 탐색하기 위한 데이터분석 방법입니다.\\n데이터를 통해 인사이트 도출을 함으로써 비즈니스에 도움을 주기 위해 사용되기 때문에 시각화를 적극 활용한 설득을 위해 사용됩니다.  \\n query\\ndataframe에서 data를 특정조건에 따라 필터링할때 사용되는 메소드입니다.\\nquery는 문자열 표현식을 사용하기 때문에 복잡한 조건을 보다 쉽게 활용할 수 있습니다. 조유경 pivot_table\\n데이터프레임의 데이터를 재구조화하여 요약된 형태로 표시 to_datetime\\npandas에서 datatype을 datetime 형식으로 변환하는  메소드입니다. \\n다양한 형식으로 되어있는 날짜/시간 데이터를 표준적인 datetime 형식으로 변환하는데 사용됩니다. \\n sort_values\\n전처리 작업 시 데이터프레임에서 특정 열을 기준으로 데이터를 정렬하는 메서드이다.\\n데이터의 결측과 이상값 처리를 위해 전처리 작업이 필요한데, 이러한 전처리 작업을 진행하기 위해 데이터를 전체적으로 검토하기 위해 사용된다.\\nsort_values는 주로 범주형 데이터를 정렬하는데 사용되는데, 특정 범주의 빈도나 순서를 쉽게 확인할 수 있기 때문이다.  DataFrame\\n여러개의 series가 모여있는 다변수의 구성으로 column이 존재하며, 테이블형식의 행과 열로 구성된 2차원 배열 형태를 가지는 데이터 구조입니다. \\n행과 열로 구성되어 있어 데이터를 쉽게 조회, 추가, 삭제, 수정 할 수 있습니다.  fetch\\n네트워크 요청을 보내고 응답을 받아오는 기능을 수행하는  javascript 함수이다\\nGET, POST, PUT, DELETE 등 다양한 HTTP 메서드를 사용할 수 있으며, 데이터를  동시에 여러 작업이 진행되는 방식인 비동기적방식으로 처리할 수 있다. addEventListener\\n웹페이지 상에서 이벤트를 처리하기 위해 사용되는 메서드이다. \\n특정한 이벤트가 발생했을때, 해당 이벤트에 대한 처리를 지정할 수 있도록 도와준다. \\n사용목적 : 웹페이지에서 발생하는 다양한 이벤트에 대한 처리를 쉽게 할 수 있고, 사용자와의 상호작용 및 웹페이지의 동적인 동작을 구현할 수 있다.  자료구조\\n데이터 값의 모임을 의미합니다. 종류에는 bucket과 queue가 있는데, bucket은 자료를 들어온 순서대로 쌓아서 자료를 꺼낼때 마지막에 넣은 자료를 먼저 꺼낼 수 있는 후입선출 방식이고, queue는 자료를 들어온 순서대로 나열 후 먼저 쌓은 자료를 먼저 꺼낼 수 있도록 하는 선입선출 방식이다. \\n사용 목적으로는 자료를 어떠한 구조가 없이 모아두게 되면 필요한 자료를 찾을때 시간이 오래걸리며, 메모리 공간의 활용성이 떨어지기 때문이다.  serviceKey\\n공공API를 사용할때 인증 및 권한 부여를 위해 사용하는 것입니다. \\n공공API는 많은 양의 데이터를 제공하는데 무단으로 이를 접근하거나 남용하는 것을 방지하기 위해 사용됩니다.  fastAPI\\n파이썬 3.5이상에서 사용하는 웹 프레임워크이다.\\nAPI 개발에 초점을 맞추어 설계되었고 높은 성능과 직관적인 문법을 제공하기 때문에 효율적인 웹서버 구축이 가능하여 사용된다. fastAPI jinja\\n파이썬으로 만들어진 템플릿팅 엔진이다.\\nAPI 응답을 쉽게 렌더링할 수 있게 해주기때문에 사용한다. 라우팅\\n사용자가 서버로 보내는 http요청을 처리하는 프로세스이다.\\n사용자가 보낸 요청에 유연하게 응답하기 위해 사용됩니다. NoSQL\\n데이터 저장, 관리에 유연성을 지원하는 데이터 저장소이다. \\n유연성을 가지고 있기 때문에 저비용으로 대용량 데이터의 저장 및 분산 처리가 가능하다.  스키마\\n데이터베이스 안에 저장되는 데이터 구조와 제약 조건 등을 정의한 것으로, 데이터의 접근 수준과 목적에 따라 다양하게 표현됩니다.. 빅데이터\\n대량으로 쏟아지는 데이터를 사회현상을 분석하고 예측하기 위해 가공 분석하여 사용하는 자료입니다. \\n Bootstrap\\n웹사이트 디자인을 쉽게 만들어주는 라이브러리 도구입니다. grid\\n웹사이트를 여러개의 칼럼으로 나눈 후 웹 요소를 배치하는 것을 말한다. await \\n실행된 코드의 작동이 완료될때까지 기다리는 것입니다. include_router\\napp 객체에 파이썬 파일의 router 객체를 등록할 때 사용하는 것입니다.  formaction\\nform태그를 사용하여 정보를 보낼때 버튼에 따라 각자 다른 곳으로 정보를 보내고자할 경우 버튼에 직접 경로를 설정해주는 태그입니다.  api router\\nfastapi에서 다중 라우팅을 위해 사용하는 것입니다. replace()\\n불러온 값 내에서 첫번째 입력한 값을 두번째 입력한 값으로 치환해줄때 사용된다. 조유경  time.sleep\\n일정 시간동안 실행을 중지해주는 역할을 하는 명령어입니다. switch_to.frame\\n웹 크롤링을 진행할때 iframe을 크롤링 하기 위해 사용하는 것입니다. find element\\n웹크롤링을 통해 정보를 획득하는 과정해서 해당하는 요소를 찾아주는 명령어 입니다. cd (change directory)\\n디렉토리 간의 이동을 위한 명령어 입니다. try except\\n업무 코드 작성 및 문제 대처를 위한 코드 입니다. if __name__ : \"__main__\" :\\n파이썬 main파일을 실행시켰을때에만 동작하도록 하는 구문입니다.  except\\n업무 코드에서 문제가 발생하였을때 사용되는 대처 코드 입니다. deletmany\\nmongodb 내 data를 삭제할때 사용하는 것입니다. insert\\n단일 또는 다수의  document를 삽입할때 사용합니다. collection\\n엑셀의 쉬트와 같은 역할 입니다. append\\n데이터를 추가하는 방법입니다. class\\nfunction을 모은 것으로 .을 사용하여 불러온다. function\\n코드의 반복작업을 줄여주기 위해 사용하는 코드로 호출을 함으로써 실행된다.'"
            ],
            "application/vnd.google.colaboratory.intrinsic+json": {
              "type": "string"
            }
          },
          "metadata": {},
          "execution_count": 64
        }
      ]
    },
    {
      "cell_type": "markdown",
      "source": [
        "#### 조사빼기"
      ],
      "metadata": {
        "id": "Ti9sUY025Sif"
      }
    },
    {
      "cell_type": "code",
      "source": [
        "# 조사 빼기\n",
        "import re\n",
        "patterns = '(조유경|사용됩니다 |위해 |중|보다 |때 |가장 |잘 |이다 |시키 |을 |입니다 |\\n|와 |두 |는 |모두 |가 |과 |은 |에 |이 |로 |의 |\\.)'\n",
        "text_regex = re.sub(pattern=patterns, repl=' ', string=text)\n",
        "text_regex"
      ],
      "metadata": {
        "colab": {
          "base_uri": "https://localhost:8080/",
          "height": 274
        },
        "id": "-9cDxRLU0pc3",
        "outputId": "88941490-4797-40f3-82f4-7c1fc7a01568"
      },
      "execution_count": 93,
      "outputs": [
        {
          "output_type": "execute_result",
          "data": {
            "text/plain": [
              "'  Supervised Learning 지도 학습 머신러닝 학습시키 방식   하나 문제 정답  알려주고 학습시키 방법입니다  데이터 패턴 파악하여 예측값 구하기  사용됩니다     Linear Regression 선형회귀분석 데이터 경향성   설명하 직선 찾 방법이다    변수 사이 관계를 분석하거나 예측하 데 사용되며, 모델 구조 간단하고 해석하기 쉬운반면 복잡한 상호작용 고려해야하 데이터 경우 한계를 가진다    p-value 관찰된 데이터 이상 극단적인 결과를 얻 확률 의미한다   p-value 유의수준이하일 귀무 가설 기각하고 대립가설 채택하게 된다  가설 통계적으 유의미한지를 판단하고, 변수 간 관계 유의미한지 등 판단하기  사용한다    대립가설 귀무가설 대조되 가설 특정한 관계나 차이 존재하다 것 주장하 가설입니다  귀무가설 채택되지 않았을 채택되며, 주장하고자 하 바를 수치적으 증명하기  사용된다  cut() 데이터를 구간 길이 따라 나누 함수이다   연속형 데이터를 범주형 데이터 바꿔줄  사용되며, 데이터들 구간별 쪼개어 나누어줄  사용합니다   EDA(탐색 데이터 분석, Exploratory Data Analysis) 데이터를 통해 도출해낼 수 있 인사이트를 탐색하기 위한 데이터분석 방법입니다  데이터를 통해 인사이트 도출 함으로써 비즈니스 도움 주기  사용되기 때문 시각화를 적극 활용한 설득  사용됩니다     query dataframe에서 data를 특정조건 따라 필터링할 사용되 메소드입니다  query 문자열 표현식 사용하기 때문 복잡한 조건  쉽게 활용할 수 있습니다    pivot_table 데이터프레임 데이터를 재구조화하여 요약된 형태 표시 to_datetime pandas에서 datatype datetime 형식으 변환하  메소드입니다   다양한 형식으 되어있 날짜/시간 데이터를 표준적인 datetime 형식으 변환하는데 사용됩니다    sort_values 전처리 작업 시 데이터프레임에서 특정 열 기준으 데이터를 정렬하 메서드이다  데이터 결측 이상값 처리를  전처리 작업 필요한데, 이러한 전처리 작업 진행하기  데이터를 전체적으 검토하기  사용된다  sort_values 주 범주형 데이터를 정렬하는데 사용되는데, 특정 범주 빈도나 순서를 쉽게 확인할 수 있기 때문이다   DataFrame 여러개 series 모여있 다변수 구성으 column 존재하며, 테이블형식 행 열 구성된 2차원 배열 형태를 가지 데이터 구조입니다   행 열 구성되어 있어 데이터를 쉽게 조회, 추가, 삭제, 수정 할 수 있습니다   fetch 네트워크 요청 보내고 응답 받아오 기능 수행하  javascript 함수이다 GET, POST, PUT, DELETE 등 다양한 HTTP 메서드를 사용할 수 있으며, 데이터를  동시 여러 작업 진행되 방식인 비동기적방식으 처리할 수 있다  addEventListener 웹페이지 상에서 이벤트를 처리하기  사용되 메서드이다   특정한 이벤트 발생했을때, 해당 이벤트 대한 처리를 지정할 수 있도록 도와준다   사용목적 : 웹페이지에서 발생하 다양한 이벤트 대한 처리를 쉽게 할 수 있고, 사용자와 상호작용 및 웹페이지 동적인 동작 구현할 수 있다   자료구조 데이터 값 모임 의미합니다  종류에 bucket queue 있는데, bucket 자료를 들어온 순서대 쌓아서 자료를 꺼낼 마지막 넣 자료를 먼저 꺼낼 수 있 후입선출 방식이고, queue 자료를 들어온 순서대 나열 후 먼저 쌓 자료를 먼저 꺼낼 수 있도록 하 선입선출 방식이다   사용 목적으로 자료를 어떠한 구조 없 모아두게 되면 필요한 자료를 찾을 시간 오래걸리며, 메모리 공간 활용성 떨어지기 때문이다   serviceKey 공공API를 사용할 인증 및 권한 부여를  사용하 것입니다   공공API 많 양 데이터를 제공하는데 무단으 이를 접근하거나 남용하 것 방지하기  사용됩니다   fastAPI 파이썬 3 5이상에서 사용하 웹 프레임워크이다  API 개발 초점 맞추어 설계되었고 높 성능 직관적인 문법 제공하기 때문 효율적인 웹서버 구축 가능하여 사용된다  fastAPI jinja 파이썬으 만들어진 템플릿팅 엔진이다  API 응답 쉽게 렌더링할 수 있게 해주기때문 사용한다  라우팅 사용자 서버 보내 http요청 처리하 프로세스이다  사용자 보낸 요청 유연하게 응답하기  사용됩니다  NoSQL 데이터 저장, 관리 유연성 지원하 데이터 저장소이다   유연성 가지고 있기 때문 저비용으 대용량 데이터 저장 및 분산 처리 가능하다   스키마 데이터베이스 안 저장되 데이터 구조 제약 조건 등 정의한 것으로, 데이터 접근 수준 목적 따라 다양하게 표현됩니다   빅데이터 대량으 쏟아지 데이터를 사회현상 분석하고 예측하기  가공 분석하여 사용하 자료입니다    Bootstrap 웹사이트 디자인 쉽게 만들어주 라이브러리 도구입니다  grid 웹사이트를 여러개 칼럼으 나눈 후 웹 요소를 배치하 것 말한다  await  실행된 코드 작동 완료될때까지 기다리 것입니다  include_router app 객체 파이썬 파일 router 객체를 등록할  사용하 것입니다   formaction form태그를 사용하여 정보를 보낼 버튼 따라 각자 다른 곳으 정보를 보내고자할 경우 버튼 직접 경로를 설정해주 태그입니다   api router fastapi에서 다  라우팅  사용하 것입니다  replace() 불러온 값 내에서 첫번째 입력한 값 두번째 입력한 값으 치환해줄 사용된다     time sleep 일정 시간동안 실행  지해주 역할 하 명령어입니다  switch_to frame 웹 크롤링 진행할 iframe 크롤링 하기  사용하 것입니다  find element 웹크롤링 통해 정보를 획득하 과정해서 해당하 요소를 찾아주 명령어 입니다  cd (change directory) 디렉토리 간 이동 위한 명령어 입니다  try except 업무 코드 작성 및 문제 대처를 위한 코드 입니다  if __name__ : \"__main__\" : 파이썬 main파일 실행시켰을때에만 동작하도록 하 구문입니다   except 업무 코드에서 문제 발생하였을 사용되 대처 코드 입니다  deletmany mongodb 내 data를 삭제할 사용하 것입니다  insert 단일 또 다수  document를 삽입할 사용합니다  collection 엑셀 쉬트 같 역할 입니다  append 데이터를 추가하 방법입니다  class function 모 것으   사용하여 불러온다  function 코드 반복작업 줄여주기  사용하 코드 호출 함으로써 실행된다 '"
            ],
            "application/vnd.google.colaboratory.intrinsic+json": {
              "type": "string"
            }
          },
          "metadata": {},
          "execution_count": 93
        }
      ]
    },
    {
      "cell_type": "code",
      "source": [
        "text_split = text_regex.split()\n",
        "text_split[:30], len(text_split)\n",
        "text_split[:30]"
      ],
      "metadata": {
        "colab": {
          "base_uri": "https://localhost:8080/"
        },
        "id": "eaBl6rJwNvsJ",
        "outputId": "638013bb-b795-4583-90dd-e843c0c89d4f"
      },
      "execution_count": 94,
      "outputs": [
        {
          "output_type": "execute_result",
          "data": {
            "text/plain": [
              "['Supervised',\n",
              " 'Learning',\n",
              " '지도',\n",
              " '학습',\n",
              " '머신러닝',\n",
              " '학습시키',\n",
              " '방식',\n",
              " '하나',\n",
              " '문제',\n",
              " '정답',\n",
              " '알려주고',\n",
              " '학습시키',\n",
              " '방법입니다',\n",
              " '데이터',\n",
              " '패턴',\n",
              " '파악하여',\n",
              " '예측값',\n",
              " '구하기',\n",
              " '사용됩니다',\n",
              " 'Linear',\n",
              " 'Regression',\n",
              " '선형회귀분석',\n",
              " '데이터',\n",
              " '경향성',\n",
              " '설명하',\n",
              " '직선',\n",
              " '찾',\n",
              " '방법이다',\n",
              " '변수',\n",
              " '사이']"
            ]
          },
          "metadata": {},
          "execution_count": 94
        }
      ]
    },
    {
      "cell_type": "code",
      "source": [
        "from collections import Counter\n",
        "text_split_count = Counter(text_split[:30])"
      ],
      "metadata": {
        "id": "Tkt5x5W1Qos6"
      },
      "execution_count": 95,
      "outputs": []
    },
    {
      "cell_type": "markdown",
      "source": [
        "### wordcloud\n"
      ],
      "metadata": {
        "id": "oE1MJm-Gf_Eb"
      }
    },
    {
      "cell_type": "code",
      "source": [
        "from wordcloud import WordCloud"
      ],
      "metadata": {
        "id": "rVbDcylxn8Kb"
      },
      "execution_count": 96,
      "outputs": []
    },
    {
      "cell_type": "code",
      "source": [
        "wordCloud = WordCloud(background_color='white'\n",
        "                    , font_path=\"/usr/share/fonts/truetype/nanum/NanumBarunGothic.ttf\")\n",
        "wordCloud.generate_from_frequencies(text_split_count)  # split하기 전 값을 넣어주면 됨."
      ],
      "metadata": {
        "colab": {
          "base_uri": "https://localhost:8080/"
        },
        "id": "chi9Tcuso0FT",
        "outputId": "3062c001-44a8-45af-808a-fe4b0bdc111d"
      },
      "execution_count": 97,
      "outputs": [
        {
          "output_type": "execute_result",
          "data": {
            "text/plain": [
              "<wordcloud.wordcloud.WordCloud at 0x7987c9e08130>"
            ]
          },
          "metadata": {},
          "execution_count": 97
        }
      ]
    },
    {
      "cell_type": "code",
      "source": [
        "wordCloud.words_"
      ],
      "metadata": {
        "colab": {
          "base_uri": "https://localhost:8080/"
        },
        "id": "7WLuxJ13pKnL",
        "outputId": "bcc1c73f-b250-4e35-f2a7-50ac7b5c0359"
      },
      "execution_count": 98,
      "outputs": [
        {
          "output_type": "execute_result",
          "data": {
            "text/plain": [
              "{'학습시키': 1.0,\n",
              " '데이터': 1.0,\n",
              " 'Supervised': 0.5,\n",
              " 'Learning': 0.5,\n",
              " '지도': 0.5,\n",
              " '학습': 0.5,\n",
              " '머신러닝': 0.5,\n",
              " '방식': 0.5,\n",
              " '하나': 0.5,\n",
              " '문제': 0.5,\n",
              " '정답': 0.5,\n",
              " '알려주고': 0.5,\n",
              " '방법입니다': 0.5,\n",
              " '패턴': 0.5,\n",
              " '파악하여': 0.5,\n",
              " '예측값': 0.5,\n",
              " '구하기': 0.5,\n",
              " '사용됩니다': 0.5,\n",
              " 'Linear': 0.5,\n",
              " 'Regression': 0.5,\n",
              " '선형회귀분석': 0.5,\n",
              " '경향성': 0.5,\n",
              " '설명하': 0.5,\n",
              " '직선': 0.5,\n",
              " '찾': 0.5,\n",
              " '방법이다': 0.5,\n",
              " '변수': 0.5,\n",
              " '사이': 0.5}"
            ]
          },
          "metadata": {},
          "execution_count": 98
        }
      ]
    },
    {
      "cell_type": "code",
      "source": [
        "import matplotlib.pyplot as plt\n",
        "plt.imshow(wordCloud)\n",
        "plt.axis('off')\n",
        "plt.show()"
      ],
      "metadata": {
        "colab": {
          "base_uri": "https://localhost:8080/",
          "height": 285
        },
        "id": "ICt98NuXpj2c",
        "outputId": "15af24d0-15ec-4a9e-d172-7dfcaa5d8217"
      },
      "execution_count": 99,
      "outputs": [
        {
          "output_type": "display_data",
          "data": {
            "text/plain": [
              "<Figure size 640x480 with 1 Axes>"
            ],
            "image/png": "[encoded data removed]"
          },
          "metadata": {}
        }
      ]
    },
    {
      "cell_type": "code",
      "source": [],
      "metadata": {
        "id": "RtA2vEgcQvjh"
      },
      "execution_count": null,
      "outputs": []
    }
  ]
}